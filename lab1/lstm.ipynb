{
 "cells": [
  {
   "cell_type": "code",
   "execution_count": 1,
   "id": "68db2f1a",
   "metadata": {},
   "outputs": [],
   "source": [
    "from datasets import load_dataset\n",
    "from glob import glob\n",
    "from random import shuffle\n",
    "\n",
    "train_files = glob(\"data/train/docs_*.jsonl\")\n",
    "shuffle(train_files)\n",
    "\n",
    "test_files = glob(\"data/test/docs_*.jsonl\")\n",
    "\n",
    "data_files = {\n",
    "    \"train\": train_files,\n",
    "    \"test\": test_files\n",
    "}\n",
    "\n",
    "dataset = load_dataset(\"json\", data_files=data_files, streaming=True)\n",
    "train_dataset = dataset[\"train\"]\n",
    "test_dataset = dataset[\"test\"]"
   ]
  },
  {
   "cell_type": "code",
   "execution_count": 2,
   "id": "b5595e36",
   "metadata": {},
   "outputs": [],
   "source": [
    "from utils.streaming_dataset import StreamingTokenDataset\n",
    "from transformers import AutoTokenizer\n",
    "from torch.utils.data import DataLoader\n",
    "# from transformers import AutoModel\n",
    "# model = AutoModel.from_pretrained(\"allegro/herbert-base-cased\")\n",
    "\n",
    "tokenizer = AutoTokenizer.from_pretrained(\"allegro/herbert-base-cased\")\n",
    "\n",
    "CONTEXT_LENGTH = 128\n",
    "BATCH_SIZE = 32\n",
    "\n",
    "train_loader = DataLoader(StreamingTokenDataset(train_dataset, tokenizer, context_size=CONTEXT_LENGTH), batch_size=BATCH_SIZE)\n",
    "test_loader = DataLoader(StreamingTokenDataset(test_dataset, tokenizer, context_size=CONTEXT_LENGTH), batch_size=BATCH_SIZE)\n"
   ]
  },
  {
   "cell_type": "code",
   "execution_count": 3,
   "id": "f2526084",
   "metadata": {},
   "outputs": [
    {
     "name": "stdout",
     "output_type": "stream",
     "text": [
      "LSTM has 21615440 trainable params\n"
     ]
    }
   ],
   "source": [
    "from architectures.lstm import SimpleLSTM\n",
    "\n",
    "vocab_size = 50_000   # number of tokens\n",
    "embed_dim = 384     # embedding dimension\n",
    "hidden_dim = 384     # LSTM hidden size\n",
    "num_layers = 2\n",
    "\n",
    "lstm = SimpleLSTM(vocab_size, embed_dim, hidden_dim, num_layers)\n",
    "param_count = sum(p.numel() for p in lstm.parameters() if p.requires_grad)\n",
    "print(f\"LSTM has {param_count} trainable params\")"
   ]
  },
  {
   "cell_type": "code",
   "execution_count": 4,
   "id": "109922d8",
   "metadata": {},
   "outputs": [],
   "source": [
    "import torch\n",
    "\n",
    "def choose_device() -> str:\n",
    "    if torch.cuda.is_available():\n",
    "        return \"cuda\"\n",
    "    elif torch.backends.mps.is_available():\n",
    "        return \"mps\"\n",
    "    else:\n",
    "        return \"cpu\""
   ]
  },
  {
   "cell_type": "code",
   "execution_count": 6,
   "id": "52226e93",
   "metadata": {},
   "outputs": [
    {
     "name": "stderr",
     "output_type": "stream",
     "text": [
      "Token indices sequence length is longer than the specified maximum sequence length for this model (2746 > 512). Running this sequence through the model will result in indexing errors\n"
     ]
    }
   ],
   "source": [
    "train_batch_count = 0\n",
    "for _ in train_loader:\n",
    "    train_batch_count += 1\n",
    "\n",
    "test_batch_count = 0\n",
    "for _ in test_loader:\n",
    "    test_batch_count += 1"
   ]
  },
  {
   "cell_type": "code",
   "execution_count": 7,
   "id": "1c005a20",
   "metadata": {},
   "outputs": [
    {
     "data": {
      "text/plain": [
       "(5421, 56)"
      ]
     },
     "execution_count": 7,
     "metadata": {},
     "output_type": "execute_result"
    }
   ],
   "source": [
    "train_batch_count, test_batch_count"
   ]
  },
  {
   "cell_type": "code",
   "execution_count": 8,
   "id": "834c5cf6",
   "metadata": {},
   "outputs": [
    {
     "name": "stdout",
     "output_type": "stream",
     "text": [
      "Training on device: cuda\n"
     ]
    },
    {
     "name": "stderr",
     "output_type": "stream",
     "text": [
      "Epoch 1/25:   0%|          | 0/5421 [00:00<?, ?it/s]"
     ]
    },
    {
     "name": "stderr",
     "output_type": "stream",
     "text": [
      "Epoch 1/25: 100%|██████████| 5421/5421 [09:36<00:00,  9.41it/s, loss=6.5358, lr=0.001]\n"
     ]
    },
    {
     "name": "stdout",
     "output_type": "stream",
     "text": [
      "Epoch 0 done | Average training loss: 6.5358\n",
      "Perplexity on training data: 689.35808301941\n",
      "\n"
     ]
    },
    {
     "name": "stderr",
     "output_type": "stream",
     "text": [
      "Epoch 1/25: 100%|██████████| 56/56 [00:02<00:00, 22.89it/s]\n"
     ]
    },
    {
     "name": "stdout",
     "output_type": "stream",
     "text": [
      "Average loss on held-out_dataset: 639.0138\n",
      "Perplexity on held-out data: 3.312678996727248e+277\n",
      "\n"
     ]
    },
    {
     "name": "stderr",
     "output_type": "stream",
     "text": [
      "Epoch 2/25: 100%|██████████| 5421/5421 [09:35<00:00,  9.42it/s, loss=5.4830, lr=0.001]\n"
     ]
    },
    {
     "name": "stdout",
     "output_type": "stream",
     "text": [
      "Epoch 1 done | Average training loss: 5.4830\n",
      "Perplexity on training data: 240.56699836636878\n",
      "\n"
     ]
    },
    {
     "name": "stderr",
     "output_type": "stream",
     "text": [
      "Epoch 2/25: 100%|██████████| 56/56 [00:02<00:00, 22.81it/s]\n"
     ]
    },
    {
     "name": "stdout",
     "output_type": "stream",
     "text": [
      "Average loss on held-out_dataset: 536.6581\n",
      "Perplexity on held-out data: 1.1685187795037949e+233\n",
      "\n"
     ]
    },
    {
     "name": "stderr",
     "output_type": "stream",
     "text": [
      "Epoch 3/25: 100%|██████████| 5421/5421 [09:35<00:00,  9.42it/s, loss=5.1249, lr=0.001]\n"
     ]
    },
    {
     "name": "stdout",
     "output_type": "stream",
     "text": [
      "Epoch 2 done | Average training loss: 5.1249\n",
      "Perplexity on training data: 168.15665420322944\n",
      "\n"
     ]
    },
    {
     "name": "stderr",
     "output_type": "stream",
     "text": [
      "Epoch 3/25: 100%|██████████| 56/56 [00:02<00:00, 22.66it/s]\n"
     ]
    },
    {
     "name": "stdout",
     "output_type": "stream",
     "text": [
      "Average loss on held-out_dataset: 501.7632\n",
      "Perplexity on held-out data: 8.184164273942625e+217\n",
      "\n"
     ]
    },
    {
     "name": "stderr",
     "output_type": "stream",
     "text": [
      "Epoch 4/25: 100%|██████████| 5421/5421 [09:35<00:00,  9.42it/s, loss=4.9082, lr=0.001]\n"
     ]
    },
    {
     "name": "stdout",
     "output_type": "stream",
     "text": [
      "Epoch 3 done | Average training loss: 4.9082\n",
      "Perplexity on training data: 135.3907686075897\n",
      "\n"
     ]
    },
    {
     "name": "stderr",
     "output_type": "stream",
     "text": [
      "Epoch 4/25: 100%|██████████| 56/56 [00:02<00:00, 22.79it/s]\n"
     ]
    },
    {
     "name": "stdout",
     "output_type": "stream",
     "text": [
      "Average loss on held-out_dataset: 480.6393\n",
      "Perplexity on held-out data: 5.482558244748784e+208\n",
      "\n"
     ]
    },
    {
     "name": "stderr",
     "output_type": "stream",
     "text": [
      "Epoch 5/25: 100%|██████████| 5421/5421 [09:35<00:00,  9.42it/s, loss=4.7547, lr=0.001]\n"
     ]
    },
    {
     "name": "stdout",
     "output_type": "stream",
     "text": [
      "Epoch 4 done | Average training loss: 4.7547\n",
      "Perplexity on training data: 116.12593737672567\n",
      "\n"
     ]
    },
    {
     "name": "stderr",
     "output_type": "stream",
     "text": [
      "Epoch 5/25: 100%|██████████| 56/56 [00:02<00:00, 22.57it/s]\n"
     ]
    },
    {
     "name": "stdout",
     "output_type": "stream",
     "text": [
      "Average loss on held-out_dataset: 465.6829\n",
      "Perplexity on held-out data: 1.7519019723817946e+202\n",
      "\n"
     ]
    },
    {
     "name": "stderr",
     "output_type": "stream",
     "text": [
      "Epoch 6/25: 100%|██████████| 5421/5421 [09:35<00:00,  9.42it/s, loss=4.6362, lr=0.001]\n"
     ]
    },
    {
     "name": "stdout",
     "output_type": "stream",
     "text": [
      "Epoch 5 done | Average training loss: 4.6362\n",
      "Perplexity on training data: 103.15481524176217\n",
      "\n"
     ]
    },
    {
     "name": "stderr",
     "output_type": "stream",
     "text": [
      "Epoch 6/25: 100%|██████████| 56/56 [00:02<00:00, 22.48it/s]\n"
     ]
    },
    {
     "name": "stdout",
     "output_type": "stream",
     "text": [
      "Average loss on held-out_dataset: 454.1432\n",
      "Perplexity on held-out data: 1.7057057527369424e+197\n",
      "\n"
     ]
    },
    {
     "name": "stderr",
     "output_type": "stream",
     "text": [
      "Epoch 7/25: 100%|██████████| 5421/5421 [09:35<00:00,  9.42it/s, loss=4.5400, lr=0.001]\n"
     ]
    },
    {
     "name": "stdout",
     "output_type": "stream",
     "text": [
      "Epoch 6 done | Average training loss: 4.5400\n",
      "Perplexity on training data: 93.68912053177239\n",
      "\n"
     ]
    },
    {
     "name": "stderr",
     "output_type": "stream",
     "text": [
      "Epoch 7/25: 100%|██████████| 56/56 [00:02<00:00, 22.74it/s]\n"
     ]
    },
    {
     "name": "stdout",
     "output_type": "stream",
     "text": [
      "Average loss on held-out_dataset: 444.7696\n",
      "Perplexity on held-out data: 1.448776222724714e+193\n",
      "\n"
     ]
    },
    {
     "name": "stderr",
     "output_type": "stream",
     "text": [
      "Epoch 8/25: 100%|██████████| 5421/5421 [09:35<00:00,  9.42it/s, loss=4.4589, lr=0.001]\n"
     ]
    },
    {
     "name": "stdout",
     "output_type": "stream",
     "text": [
      "Epoch 7 done | Average training loss: 4.4589\n",
      "Perplexity on training data: 86.39520085897892\n",
      "\n"
     ]
    },
    {
     "name": "stderr",
     "output_type": "stream",
     "text": [
      "Epoch 8/25: 100%|██████████| 56/56 [00:02<00:00, 22.81it/s]\n"
     ]
    },
    {
     "name": "stdout",
     "output_type": "stream",
     "text": [
      "Average loss on held-out_dataset: 436.8799\n",
      "Perplexity on held-out data: 5.42655218030364e+189\n",
      "\n"
     ]
    },
    {
     "name": "stderr",
     "output_type": "stream",
     "text": [
      "Epoch 9/25: 100%|██████████| 5421/5421 [09:35<00:00,  9.42it/s, loss=4.3896, lr=0.001]\n"
     ]
    },
    {
     "name": "stdout",
     "output_type": "stream",
     "text": [
      "Epoch 8 done | Average training loss: 4.3896\n",
      "Perplexity on training data: 80.60529408604664\n",
      "\n"
     ]
    },
    {
     "name": "stderr",
     "output_type": "stream",
     "text": [
      "Epoch 9/25: 100%|██████████| 56/56 [00:02<00:00, 22.64it/s]\n"
     ]
    },
    {
     "name": "stdout",
     "output_type": "stream",
     "text": [
      "Average loss on held-out_dataset: 430.1303\n",
      "Perplexity on held-out data: 6.356591424791664e+186\n",
      "\n"
     ]
    },
    {
     "name": "stderr",
     "output_type": "stream",
     "text": [
      "Epoch 10/25: 100%|██████████| 5421/5421 [09:37<00:00,  9.38it/s, loss=4.3292, lr=0.001]\n"
     ]
    },
    {
     "name": "stdout",
     "output_type": "stream",
     "text": [
      "Epoch 9 done | Average training loss: 4.3292\n",
      "Perplexity on training data: 75.88063883492683\n",
      "\n"
     ]
    },
    {
     "name": "stderr",
     "output_type": "stream",
     "text": [
      "Epoch 10/25: 100%|██████████| 56/56 [00:02<00:00, 22.69it/s]\n"
     ]
    },
    {
     "name": "stdout",
     "output_type": "stream",
     "text": [
      "Average loss on held-out_dataset: 424.2555\n",
      "Perplexity on held-out data: 1.7857591761691283e+184\n",
      "\n"
     ]
    },
    {
     "name": "stderr",
     "output_type": "stream",
     "text": [
      "Epoch 11/25: 100%|██████████| 5421/5421 [09:36<00:00,  9.40it/s, loss=4.2760, lr=0.001]\n"
     ]
    },
    {
     "name": "stdout",
     "output_type": "stream",
     "text": [
      "Epoch 10 done | Average training loss: 4.2760\n",
      "Perplexity on training data: 71.9534705577334\n",
      "\n"
     ]
    },
    {
     "name": "stderr",
     "output_type": "stream",
     "text": [
      "Epoch 11/25: 100%|██████████| 56/56 [00:02<00:00, 22.61it/s]\n"
     ]
    },
    {
     "name": "stdout",
     "output_type": "stream",
     "text": [
      "Average loss on held-out_dataset: 419.0898\n",
      "Perplexity on held-out data: 1.0195382730622643e+182\n",
      "\n"
     ]
    },
    {
     "name": "stderr",
     "output_type": "stream",
     "text": [
      "Epoch 12/25: 100%|██████████| 5421/5421 [09:37<00:00,  9.39it/s, loss=4.2288, lr=0.001]\n"
     ]
    },
    {
     "name": "stdout",
     "output_type": "stream",
     "text": [
      "Epoch 11 done | Average training loss: 4.2288\n",
      "Perplexity on training data: 68.63328274034514\n",
      "\n"
     ]
    },
    {
     "name": "stderr",
     "output_type": "stream",
     "text": [
      "Epoch 12/25: 100%|██████████| 56/56 [00:02<00:00, 22.60it/s]\n"
     ]
    },
    {
     "name": "stdout",
     "output_type": "stream",
     "text": [
      "Average loss on held-out_dataset: 414.4993\n",
      "Perplexity on held-out data: 1.0346064854574707e+180\n",
      "\n"
     ]
    },
    {
     "name": "stderr",
     "output_type": "stream",
     "text": [
      "Epoch 13/25: 100%|██████████| 5421/5421 [09:36<00:00,  9.40it/s, loss=4.1866, lr=0.001]\n"
     ]
    },
    {
     "name": "stdout",
     "output_type": "stream",
     "text": [
      "Epoch 12 done | Average training loss: 4.1866\n",
      "Perplexity on training data: 65.79994427978521\n",
      "\n"
     ]
    },
    {
     "name": "stderr",
     "output_type": "stream",
     "text": [
      "Epoch 13/25: 100%|██████████| 56/56 [00:02<00:00, 22.70it/s]\n"
     ]
    },
    {
     "name": "stdout",
     "output_type": "stream",
     "text": [
      "Average loss on held-out_dataset: 410.4052\n",
      "Perplexity on held-out data: 1.7246448842347808e+178\n",
      "\n"
     ]
    },
    {
     "name": "stderr",
     "output_type": "stream",
     "text": [
      "Epoch 14/25: 100%|██████████| 5421/5421 [09:36<00:00,  9.40it/s, loss=4.1488, lr=0.001]\n"
     ]
    },
    {
     "name": "stdout",
     "output_type": "stream",
     "text": [
      "Epoch 13 done | Average training loss: 4.1488\n",
      "Perplexity on training data: 63.3608088255846\n",
      "\n"
     ]
    },
    {
     "name": "stderr",
     "output_type": "stream",
     "text": [
      "Epoch 14/25: 100%|██████████| 56/56 [00:02<00:00, 22.49it/s]\n"
     ]
    },
    {
     "name": "stdout",
     "output_type": "stream",
     "text": [
      "Average loss on held-out_dataset: 406.7383\n",
      "Perplexity on held-out data: 4.4077735254442326e+176\n",
      "\n"
     ]
    },
    {
     "name": "stderr",
     "output_type": "stream",
     "text": [
      "Epoch 15/25: 100%|██████████| 5421/5421 [09:36<00:00,  9.40it/s, loss=4.1148, lr=0.001]\n"
     ]
    },
    {
     "name": "stdout",
     "output_type": "stream",
     "text": [
      "Epoch 14 done | Average training loss: 4.1148\n",
      "Perplexity on training data: 61.24102798818527\n",
      "\n"
     ]
    },
    {
     "name": "stderr",
     "output_type": "stream",
     "text": [
      "Epoch 15/25: 100%|██████████| 56/56 [00:02<00:00, 22.56it/s]\n"
     ]
    },
    {
     "name": "stdout",
     "output_type": "stream",
     "text": [
      "Average loss on held-out_dataset: 403.4368\n",
      "Perplexity on held-out data: 1.623251458137053e+175\n",
      "\n"
     ]
    },
    {
     "name": "stderr",
     "output_type": "stream",
     "text": [
      "Epoch 16/25: 100%|██████████| 5421/5421 [09:38<00:00,  9.38it/s, loss=4.0842, lr=0.001]\n"
     ]
    },
    {
     "name": "stdout",
     "output_type": "stream",
     "text": [
      "Epoch 15 done | Average training loss: 4.0842\n",
      "Perplexity on training data: 59.396163729442925\n",
      "\n"
     ]
    },
    {
     "name": "stderr",
     "output_type": "stream",
     "text": [
      "Epoch 16/25: 100%|██████████| 56/56 [00:02<00:00, 22.71it/s]\n"
     ]
    },
    {
     "name": "stdout",
     "output_type": "stream",
     "text": [
      "Average loss on held-out_dataset: 400.4711\n",
      "Perplexity on held-out data: 8.36321606249902e+173\n",
      "\n"
     ]
    },
    {
     "name": "stderr",
     "output_type": "stream",
     "text": [
      "Epoch 17/25: 100%|██████████| 5421/5421 [09:37<00:00,  9.38it/s, loss=4.0566, lr=0.001]\n"
     ]
    },
    {
     "name": "stdout",
     "output_type": "stream",
     "text": [
      "Epoch 16 done | Average training loss: 4.0566\n",
      "Perplexity on training data: 57.77901624106715\n",
      "\n"
     ]
    },
    {
     "name": "stderr",
     "output_type": "stream",
     "text": [
      "Epoch 17/25: 100%|██████████| 56/56 [00:02<00:00, 22.69it/s]\n"
     ]
    },
    {
     "name": "stdout",
     "output_type": "stream",
     "text": [
      "Average loss on held-out_dataset: 397.7946\n",
      "Perplexity on held-out data: 5.754250015408218e+172\n",
      "\n"
     ]
    },
    {
     "name": "stderr",
     "output_type": "stream",
     "text": [
      "Epoch 18/25: 100%|██████████| 5421/5421 [09:37<00:00,  9.39it/s, loss=4.0316, lr=0.001]\n"
     ]
    },
    {
     "name": "stdout",
     "output_type": "stream",
     "text": [
      "Epoch 17 done | Average training loss: 4.0316\n",
      "Perplexity on training data: 56.352226582443514\n",
      "\n"
     ]
    },
    {
     "name": "stderr",
     "output_type": "stream",
     "text": [
      "Epoch 18/25: 100%|██████████| 56/56 [00:02<00:00, 22.67it/s]\n"
     ]
    },
    {
     "name": "stdout",
     "output_type": "stream",
     "text": [
      "Average loss on held-out_dataset: 395.3723\n",
      "Perplexity on held-out data: 5.105306600436695e+171\n",
      "\n"
     ]
    },
    {
     "name": "stderr",
     "output_type": "stream",
     "text": [
      "Epoch 19/25: 100%|██████████| 5421/5421 [09:38<00:00,  9.37it/s, loss=4.0091, lr=0.001]\n"
     ]
    },
    {
     "name": "stdout",
     "output_type": "stream",
     "text": [
      "Epoch 18 done | Average training loss: 4.0091\n",
      "Perplexity on training data: 55.09844279750342\n",
      "\n"
     ]
    },
    {
     "name": "stderr",
     "output_type": "stream",
     "text": [
      "Epoch 19/25: 100%|██████████| 56/56 [00:02<00:00, 22.65it/s]\n"
     ]
    },
    {
     "name": "stdout",
     "output_type": "stream",
     "text": [
      "Average loss on held-out_dataset: 393.1932\n",
      "Perplexity on held-out data: 5.776156450325911e+170\n",
      "\n"
     ]
    },
    {
     "name": "stderr",
     "output_type": "stream",
     "text": [
      "Epoch 20/25: 100%|██████████| 5421/5421 [09:37<00:00,  9.39it/s, loss=3.9888, lr=0.001]\n"
     ]
    },
    {
     "name": "stdout",
     "output_type": "stream",
     "text": [
      "Epoch 19 done | Average training loss: 3.9888\n",
      "Perplexity on training data: 53.98834914671257\n",
      "\n"
     ]
    },
    {
     "name": "stderr",
     "output_type": "stream",
     "text": [
      "Epoch 20/25: 100%|██████████| 56/56 [00:02<00:00, 22.69it/s]\n"
     ]
    },
    {
     "name": "stdout",
     "output_type": "stream",
     "text": [
      "Average loss on held-out_dataset: 391.2217\n",
      "Perplexity on held-out data: 8.043530590894051e+169\n",
      "\n"
     ]
    },
    {
     "name": "stderr",
     "output_type": "stream",
     "text": [
      "Epoch 21/25: 100%|██████████| 5421/5421 [09:36<00:00,  9.40it/s, loss=3.9703, lr=0.001]\n"
     ]
    },
    {
     "name": "stdout",
     "output_type": "stream",
     "text": [
      "Epoch 20 done | Average training loss: 3.9703\n",
      "Perplexity on training data: 53.00219571332485\n",
      "\n"
     ]
    },
    {
     "name": "stderr",
     "output_type": "stream",
     "text": [
      "Epoch 21/25: 100%|██████████| 56/56 [00:02<00:00, 22.57it/s]\n"
     ]
    },
    {
     "name": "stdout",
     "output_type": "stream",
     "text": [
      "Average loss on held-out_dataset: 389.4374\n",
      "Perplexity on held-out data: 1.350584374960451e+169\n",
      "\n"
     ]
    },
    {
     "name": "stderr",
     "output_type": "stream",
     "text": [
      "Epoch 22/25: 100%|██████████| 5421/5421 [09:36<00:00,  9.40it/s, loss=3.9537, lr=0.001]\n"
     ]
    },
    {
     "name": "stdout",
     "output_type": "stream",
     "text": [
      "Epoch 21 done | Average training loss: 3.9537\n",
      "Perplexity on training data: 52.127255631397986\n",
      "\n"
     ]
    },
    {
     "name": "stderr",
     "output_type": "stream",
     "text": [
      "Epoch 22/25: 100%|██████████| 56/56 [00:02<00:00, 22.58it/s]\n"
     ]
    },
    {
     "name": "stdout",
     "output_type": "stream",
     "text": [
      "Average loss on held-out_dataset: 387.8247\n",
      "Perplexity on held-out data: 2.6923828694951028e+168\n",
      "\n"
     ]
    },
    {
     "name": "stderr",
     "output_type": "stream",
     "text": [
      "Epoch 23/25: 100%|██████████| 5421/5421 [09:37<00:00,  9.38it/s, loss=3.9384, lr=0.001]\n"
     ]
    },
    {
     "name": "stdout",
     "output_type": "stream",
     "text": [
      "Epoch 22 done | Average training loss: 3.9384\n",
      "Perplexity on training data: 51.3387978495124\n",
      "\n"
     ]
    },
    {
     "name": "stderr",
     "output_type": "stream",
     "text": [
      "Epoch 23/25: 100%|██████████| 56/56 [00:02<00:00, 22.45it/s]\n"
     ]
    },
    {
     "name": "stdout",
     "output_type": "stream",
     "text": [
      "Average loss on held-out_dataset: 386.3497\n",
      "Perplexity on held-out data: 6.159404776775216e+167\n",
      "\n"
     ]
    },
    {
     "name": "stderr",
     "output_type": "stream",
     "text": [
      "Epoch 24/25: 100%|██████████| 5421/5421 [09:39<00:00,  9.35it/s, loss=3.9247, lr=0.001]\n"
     ]
    },
    {
     "name": "stdout",
     "output_type": "stream",
     "text": [
      "Epoch 23 done | Average training loss: 3.9247\n",
      "Perplexity on training data: 50.639348504856756\n",
      "\n"
     ]
    },
    {
     "name": "stderr",
     "output_type": "stream",
     "text": [
      "Epoch 24/25: 100%|██████████| 56/56 [00:02<00:00, 22.04it/s]\n"
     ]
    },
    {
     "name": "stdout",
     "output_type": "stream",
     "text": [
      "Average loss on held-out_dataset: 385.0223\n",
      "Perplexity on held-out data: 1.6333364711154528e+167\n",
      "\n"
     ]
    },
    {
     "name": "stderr",
     "output_type": "stream",
     "text": [
      "Epoch 25/25: 100%|██████████| 5421/5421 [09:39<00:00,  9.35it/s, loss=3.9120, lr=0.001]\n"
     ]
    },
    {
     "name": "stdout",
     "output_type": "stream",
     "text": [
      "Epoch 24 done | Average training loss: 3.9120\n",
      "Perplexity on training data: 49.99686635682195\n",
      "\n"
     ]
    },
    {
     "name": "stderr",
     "output_type": "stream",
     "text": [
      "Epoch 25/25: 100%|██████████| 56/56 [00:02<00:00, 22.36it/s]\n"
     ]
    },
    {
     "name": "stdout",
     "output_type": "stream",
     "text": [
      "Average loss on held-out_dataset: 383.7878\n",
      "Perplexity on held-out data: 4.7525825485872903e+166\n",
      "\n",
      "Training complete. Model saved to lstm_final.pt\n"
     ]
    }
   ],
   "source": [
    "import torch.nn as nn\n",
    "from tqdm import tqdm\n",
    "\n",
    "epochs = 25\n",
    "learning_rate = 1e-3\n",
    "weight_decay = 1e-2\n",
    "grad_clip = 1.0\n",
    "device = torch.device(choose_device())\n",
    "\n",
    "print(f\"Training on device: {device}\")\n",
    "\n",
    "lstm.to(device)\n",
    "criterion = nn.CrossEntropyLoss(ignore_index=tokenizer.pad_token_id)\n",
    "optimizer = torch.optim.AdamW(lstm.parameters(), lr=learning_rate, weight_decay=weight_decay)\n",
    "\n",
    "for epoch in range(epochs):\n",
    "\n",
    "    lstm.train()\n",
    "    total_loss = 0.0\n",
    "\n",
    "    progress = tqdm(enumerate(train_loader), total=train_batch_count, desc=f\"Epoch {epoch + 1}/{epochs}\")\n",
    "\n",
    "    for i, (batch_x, batch_y) in progress:\n",
    "        batch_x = batch_x.to(device)\n",
    "        batch_y = batch_y.to(device)\n",
    "\n",
    "        optimizer.zero_grad()\n",
    "        out, _ = lstm(batch_x)\n",
    "\n",
    "        # Flatten for CrossEntropyLoss\n",
    "        loss = criterion(out.view(-1, out.size(-1)), batch_y.view(-1))\n",
    "        loss.backward()\n",
    "\n",
    "        # Gradient clipping\n",
    "        torch.nn.utils.clip_grad_norm_(lstm.parameters(), grad_clip)\n",
    "\n",
    "        optimizer.step()\n",
    "\n",
    "        total_loss += loss.item()\n",
    "        avg_loss = total_loss / (i + 1)\n",
    "\n",
    "        progress.set_postfix({\"loss\": f\"{avg_loss:.4f}\", \"lr\": optimizer.param_groups[0][\"lr\"]})\n",
    "\n",
    "    if epoch % 3 == 2:\n",
    "        torch.save(lstm.state_dict(), f\"lstm_epoch_{epoch + 1}.pt\")\n",
    "\n",
    "\n",
    "    print(f\"Epoch {epoch} done | Average training loss: {avg_loss:.4f}\")\n",
    "    print(f\"Perplexity on training data: {torch.math.exp(avg_loss)}\\n\")\n",
    "\n",
    "    with torch.no_grad():\n",
    "        progress = tqdm(enumerate(test_loader), total=test_batch_count, desc=f\"Epoch {epoch + 1}/{epochs}\")\n",
    "\n",
    "        for i, (batch_x, batch_y) in progress:\n",
    "            batch_x = batch_x.to(device)\n",
    "            batch_y = batch_y.to(device)\n",
    "\n",
    "            out, _ = lstm(batch_x)\n",
    "            loss = criterion(out.view(-1, out.size(-1)), batch_y.view(-1))\n",
    "\n",
    "            total_loss += loss.item()\n",
    "            avg_loss = total_loss / (i + 1)\n",
    "\n",
    "    print(f\"Average loss on held-out_dataset: {avg_loss:.4f}\")\n",
    "    print(f\"Perplexity on held-out data: {torch.math.exp(avg_loss)}\\n\")\n",
    "\n",
    "torch.save(lstm.state_dict(), \"lstm_final.pt\")\n",
    "print(\"Training complete. Model saved to lstm_final.pt\")\n"
   ]
  }
 ],
 "metadata": {
  "kernelspec": {
   "display_name": "computational-linguistics (3.12.8)",
   "language": "python",
   "name": "python3"
  },
  "language_info": {
   "codemirror_mode": {
    "name": "ipython",
    "version": 3
   },
   "file_extension": ".py",
   "mimetype": "text/x-python",
   "name": "python",
   "nbconvert_exporter": "python",
   "pygments_lexer": "ipython3",
   "version": "3.12.8"
  }
 },
 "nbformat": 4,
 "nbformat_minor": 5
}
