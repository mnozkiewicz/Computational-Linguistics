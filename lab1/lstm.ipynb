{
 "cells": [
  {
   "cell_type": "code",
   "execution_count": 1,
   "id": "68db2f1a",
   "metadata": {},
   "outputs": [],
   "source": [
    "from datasets import load_dataset\n",
    "from glob import glob\n",
    "from random import shuffle\n",
    "\n",
    "train_files = glob(\"data/train/docs_*.jsonl\")\n",
    "shuffle(train_files)\n",
    "\n",
    "test_files = glob(\"data/test/docs_*.jsonl\")\n",
    "\n",
    "data_files = {\n",
    "    \"train\": train_files,\n",
    "    \"test\": test_files\n",
    "}\n",
    "\n",
    "dataset = load_dataset(\"json\", data_files=data_files, streaming=True)\n",
    "train_dataset = dataset[\"train\"]\n",
    "test_dataset = dataset[\"test\"]"
   ]
  },
  {
   "cell_type": "code",
   "execution_count": 2,
   "id": "b5595e36",
   "metadata": {},
   "outputs": [],
   "source": [
    "from utils.streaming_dataset import StreamingTokenDataset\n",
    "from transformers import AutoTokenizer\n",
    "from torch.utils.data import DataLoader\n",
    "# from transformers import AutoModel\n",
    "# model = AutoModel.from_pretrained(\"allegro/herbert-base-cased\")\n",
    "\n",
    "tokenizer = AutoTokenizer.from_pretrained(\"allegro/herbert-base-cased\")\n",
    "\n",
    "CONTEXT_LENGTH = 128\n",
    "BATCH_SIZE = 64\n",
    "\n",
    "train_loader = DataLoader(StreamingTokenDataset(train_dataset, tokenizer, context_size=CONTEXT_LENGTH), batch_size=BATCH_SIZE)\n",
    "test_loader = DataLoader(StreamingTokenDataset(test_dataset, tokenizer, context_size=CONTEXT_LENGTH), batch_size=BATCH_SIZE)\n"
   ]
  },
  {
   "cell_type": "code",
   "execution_count": 3,
   "id": "81bbed54",
   "metadata": {},
   "outputs": [],
   "source": [
    "import torch.nn as nn\n",
    "import torch.nn.functional as F\n",
    "from typing import Optional\n",
    "\n",
    "\n",
    "vocab_size = 50_000   # number of tokens\n",
    "embed_dim = 768     # embedding dimension\n",
    "hidden_dim = 768     # LSTM hidden size\n",
    "num_layers = 2\n",
    "\n",
    "\n",
    "class SimpleLSTM(nn.Module):\n",
    "    def __init__(\n",
    "            self, \n",
    "            vocab_size: int, \n",
    "            embed_dim: int, \n",
    "            hidden_dim: int, \n",
    "            num_layers: int,\n",
    "            embedding: Optional[nn.Embedding] = None\n",
    "        ):\n",
    "        super().__init__()\n",
    "\n",
    "        self.embed = nn.Embedding(vocab_size, embed_dim)\n",
    "        self.lstm = nn.LSTM(embed_dim, hidden_dim, num_layers, batch_first=True)\n",
    "        self.fc = nn.Linear(hidden_dim, vocab_size)\n",
    "        self.fc.weight = self.embed.weight\n",
    "\n",
    "    def forward(self, x, hidden=None):\n",
    "        x = self.embed(x)            # [batch, seq_len, embed_dim]\n",
    "        out, hidden = self.lstm(x, hidden)  # [batch, seq_len, hidden_dim]\n",
    "        logits = self.fc(out)        # [batch, seq_len, vocab_size]\n",
    "        return logits, hidden"
   ]
  },
  {
   "cell_type": "code",
   "execution_count": 4,
   "id": "f2526084",
   "metadata": {},
   "outputs": [
    {
     "name": "stdout",
     "output_type": "stream",
     "text": [
      "LSTM has 47899472 trainable params\n"
     ]
    }
   ],
   "source": [
    "lstm = SimpleLSTM(vocab_size, embed_dim, hidden_dim, num_layers)\n",
    "param_count = sum(p.numel() for p in lstm.parameters() if p.requires_grad)\n",
    "print(f\"LSTM has {param_count} trainable params\")"
   ]
  },
  {
   "cell_type": "code",
   "execution_count": 5,
   "id": "109922d8",
   "metadata": {},
   "outputs": [],
   "source": [
    "import torch\n",
    "\n",
    "def choose_device() -> str:\n",
    "    if torch.cuda.is_available():\n",
    "        return \"cuda\"\n",
    "    elif torch.backends.mps.is_available():\n",
    "        return \"mps\"\n",
    "    else:\n",
    "        return \"cpu\""
   ]
  },
  {
   "cell_type": "code",
   "execution_count": 6,
   "id": "52226e93",
   "metadata": {},
   "outputs": [
    {
     "name": "stderr",
     "output_type": "stream",
     "text": [
      "Token indices sequence length is longer than the specified maximum sequence length for this model (8868 > 512). Running this sequence through the model will result in indexing errors\n"
     ]
    }
   ],
   "source": [
    "train_batch_count = 0\n",
    "for _ in train_loader:\n",
    "    train_batch_count += 1\n",
    "\n",
    "test_batch_count = 0\n",
    "for _ in test_loader:\n",
    "    test_batch_count += 1"
   ]
  },
  {
   "cell_type": "code",
   "execution_count": 7,
   "id": "1c005a20",
   "metadata": {},
   "outputs": [
    {
     "data": {
      "text/plain": [
       "(1419, 28)"
      ]
     },
     "execution_count": 7,
     "metadata": {},
     "output_type": "execute_result"
    }
   ],
   "source": [
    "train_batch_count, test_batch_count"
   ]
  },
  {
   "cell_type": "code",
   "execution_count": null,
   "id": "834c5cf6",
   "metadata": {},
   "outputs": [],
   "source": [
    "import torch.nn as nn\n",
    "from tqdm import tqdm\n",
    "\n",
    "epochs = 10\n",
    "learning_rate = 1e-3\n",
    "weight_decay = 1e-2\n",
    "grad_clip = 1.0\n",
    "device = torch.device(choose_device())\n",
    "\n",
    "print(f\"Training on device: {device}\")\n",
    "\n",
    "lstm.to(device)\n",
    "criterion = nn.CrossEntropyLoss(ignore_index=tokenizer.pad_token_id)\n",
    "optimizer = torch.optim.AdamW(lstm.parameters(), lr=learning_rate, weight_decay=weight_decay)\n",
    "\n",
    "scheduler = torch.optim.lr_scheduler.CosineAnnealingLR(optimizer, T_max=epochs, eta_min=1e-5)\n",
    "\n",
    "for epoch in range(epochs):\n",
    "\n",
    "    lstm.train()\n",
    "    total_loss = 0.0\n",
    "\n",
    "    progress = tqdm(enumerate(train_loader), total=train_batch_count, desc=f\"Epoch {epoch + 1}/{epochs}\")\n",
    "\n",
    "    for i, (batch_x, batch_y) in progress:\n",
    "        batch_x = batch_x.to(device)\n",
    "        batch_y = batch_y.to(device)\n",
    "\n",
    "        optimizer.zero_grad()\n",
    "        out, _ = lstm(batch_x)\n",
    "\n",
    "        # Flatten for CrossEntropyLoss\n",
    "        loss = criterion(out.view(-1, out.size(-1)), batch_y.view(-1))\n",
    "        loss.backward()\n",
    "\n",
    "        # Gradient clipping\n",
    "        torch.nn.utils.clip_grad_norm_(lstm.parameters(), grad_clip)\n",
    "\n",
    "        optimizer.step()\n",
    "\n",
    "        total_loss += loss.item()\n",
    "        avg_loss = total_loss / (i + 1)\n",
    "\n",
    "        progress.set_postfix({\"loss\": f\"{avg_loss:.4f}\", \"lr\": optimizer.param_groups[0][\"lr\"]})\n",
    "\n",
    "        break\n",
    "\n",
    "    scheduler.step()\n",
    "\n",
    "    if epoch < epochs - 1:\n",
    "        torch.save(lstm.state_dict(), f\"lstm_epoch_{epoch}.pt\")\n",
    "\n",
    "\n",
    "    print(f\"Epoch {epoch} done | Average training loss: {avg_loss:.4f}\")\n",
    "    print(f\"Perplexity on training data: {torch.math.exp(avg_loss)}\\n\")\n",
    "\n",
    "    with torch.no_grad():\n",
    "        progress = tqdm(enumerate(test_loader), total=test_batch_count, desc=f\"Epoch {epoch + 1}/{epochs}\")\n",
    "\n",
    "        for i, (batch_x, batch_y) in progress:\n",
    "            batch_x = batch_x.to(device)\n",
    "            batch_y = batch_y.to(device)\n",
    "\n",
    "            out, _ = lstm(batch_x)\n",
    "            loss = criterion(out.view(-1, out.size(-1)), batch_y.view(-1))\n",
    "\n",
    "            total_loss += loss.item()\n",
    "            avg_loss = total_loss / (i + 1)\n",
    "\n",
    "    print(f\"Average loss on held-out_dataset: {avg_loss:.4f}\")\n",
    "    print(f\"Perplexity on held-out data: {torch.math.exp(avg_loss)}\\n\")\n",
    "\n",
    "torch.save(lstm.state_dict(), \"lstm_final.pt\")\n",
    "print(\"Training complete. Model saved to lstm_final.pt\")\n"
   ]
  },
  {
   "cell_type": "code",
   "execution_count": null,
   "id": "c2957b9a",
   "metadata": {},
   "outputs": [],
   "source": [
    "@torch.no_grad()\n",
    "def generate_text(model, tokenizer, prompt, max_new_tokens=20, device=None):\n",
    "    if device is None:\n",
    "        device = choose_device()\n",
    "    \n",
    "    model.to(device)\n",
    "    model.eval()\n",
    "\n",
    "    # Encode prompt\n",
    "    tokens = tokenizer.encode(prompt, add_special_tokens=False)\n",
    "    input_ids = torch.tensor(tokens, dtype=torch.long).unsqueeze(0).to(device)\n",
    "\n",
    "    generated_tokens = tokens.copy()\n",
    "\n",
    "    with torch.no_grad():\n",
    "        hidden = None\n",
    "        for _ in range(max_new_tokens):\n",
    "            out, hidden = model(input_ids, hidden)\n",
    "            last_logits = out[0, -1, :]  # last token\n",
    "            probs = torch.softmax(last_logits, dim=-1)\n",
    "            predicted_id = torch.argmax(probs).item()\n",
    "\n",
    "            # Append predicted token\n",
    "            generated_tokens.append(predicted_id)\n",
    "            \n",
    "            # Prepare next input\n",
    "            input_ids = torch.tensor([[predicted_id]], dtype=torch.long).to(device)\n",
    "    \n",
    "    # Decode full sequence\n",
    "    text = tokenizer.decode(generated_tokens, skip_special_tokens=True)\n",
    "    return text\n"
   ]
  },
  {
   "cell_type": "code",
   "execution_count": 14,
   "id": "0c7fe739",
   "metadata": {},
   "outputs": [],
   "source": [
    "# generate_text(lstm, tokenizer)"
   ]
  }
 ],
 "metadata": {
  "kernelspec": {
   "display_name": "computational-linguistics (3.12.8)",
   "language": "python",
   "name": "python3"
  },
  "language_info": {
   "codemirror_mode": {
    "name": "ipython",
    "version": 3
   },
   "file_extension": ".py",
   "mimetype": "text/x-python",
   "name": "python",
   "nbconvert_exporter": "python",
   "pygments_lexer": "ipython3",
   "version": "3.12.8"
  }
 },
 "nbformat": 4,
 "nbformat_minor": 5
}
