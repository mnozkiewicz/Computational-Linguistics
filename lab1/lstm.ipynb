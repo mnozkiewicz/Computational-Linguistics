{
 "cells": [
  {
   "cell_type": "code",
   "execution_count": 1,
   "id": "68db2f1a",
   "metadata": {},
   "outputs": [],
   "source": [
    "from datasets import load_dataset\n",
    "from glob import glob\n",
    "from random import shuffle\n",
    "\n",
    "train_files = glob(\"data/train/docs_*.jsonl\")\n",
    "shuffle(train_files)\n",
    "\n",
    "test_files = glob(\"data/test/docs_*.jsonl\")\n",
    "\n",
    "data_files = {\n",
    "    \"train\": train_files,\n",
    "    \"test\": test_files\n",
    "}\n",
    "\n",
    "dataset = load_dataset(\"json\", data_files=data_files, streaming=True)\n",
    "train_dataset = dataset[\"train\"]\n",
    "test_dataset = dataset[\"test\"]"
   ]
  },
  {
   "cell_type": "code",
   "execution_count": 2,
   "id": "b5595e36",
   "metadata": {},
   "outputs": [],
   "source": [
    "from utils.streaming_dataset import StreamingTokenDataset\n",
    "from transformers import AutoTokenizer\n",
    "from torch.utils.data import DataLoader\n",
    "# from transformers import AutoModel\n",
    "# model = AutoModel.from_pretrained(\"allegro/herbert-base-cased\")\n",
    "\n",
    "tokenizer = AutoTokenizer.from_pretrained(\"allegro/herbert-base-cased\")\n",
    "\n",
    "CONTEXT_LENGTH = 128\n",
    "BATCH_SIZE = 64\n",
    "\n",
    "train_loader = DataLoader(StreamingTokenDataset(train_dataset, tokenizer, context_size=CONTEXT_LENGTH), batch_size=BATCH_SIZE)\n",
    "test_loader = DataLoader(StreamingTokenDataset(test_dataset, tokenizer, context_size=CONTEXT_LENGTH), batch_size=BATCH_SIZE)\n"
   ]
  },
  {
   "cell_type": "code",
   "execution_count": 3,
   "id": "81bbed54",
   "metadata": {},
   "outputs": [],
   "source": [
    "import torch.nn as nn\n",
    "import torch.nn.functional as F\n",
    "from typing import Optional\n",
    "\n",
    "\n",
    "vocab_size = 50_000   # number of tokens\n",
    "embed_dim = 768     # embedding dimension\n",
    "hidden_dim = 768     # LSTM hidden size\n",
    "num_layers = 2\n",
    "\n",
    "\n",
    "class SimpleLSTM(nn.Module):\n",
    "    def __init__(\n",
    "            self, \n",
    "            vocab_size: int, \n",
    "            embed_dim: int, \n",
    "            hidden_dim: int, \n",
    "            num_layers: int,\n",
    "            embedding: Optional[nn.Embedding] = None\n",
    "        ):\n",
    "        super().__init__()\n",
    "\n",
    "        self.embed = nn.Embedding(vocab_size, embed_dim)\n",
    "        self.lstm = nn.LSTM(embed_dim, hidden_dim, num_layers, batch_first=True)\n",
    "        self.fc = nn.Linear(hidden_dim, vocab_size)\n",
    "        self.fc.weight = self.embed.weight\n",
    "\n",
    "    def forward(self, x, hidden=None):\n",
    "        x = self.embed(x)            # [batch, seq_len, embed_dim]\n",
    "        out, hidden = self.lstm(x, hidden)  # [batch, seq_len, hidden_dim]\n",
    "        logits = self.fc(out)        # [batch, seq_len, vocab_size]\n",
    "        return logits, hidden"
   ]
  },
  {
   "cell_type": "code",
   "execution_count": 4,
   "id": "f2526084",
   "metadata": {},
   "outputs": [
    {
     "name": "stdout",
     "output_type": "stream",
     "text": [
      "LSTM has 47899472 trainable params\n"
     ]
    }
   ],
   "source": [
    "lstm = SimpleLSTM(vocab_size, embed_dim, hidden_dim, num_layers)\n",
    "param_count = sum(p.numel() for p in lstm.parameters() if p.requires_grad)\n",
    "print(f\"LSTM has {param_count} trainable params\")"
   ]
  },
  {
   "cell_type": "code",
   "execution_count": 5,
   "id": "109922d8",
   "metadata": {},
   "outputs": [],
   "source": [
    "import torch\n",
    "\n",
    "def choose_device() -> str:\n",
    "    if torch.cuda.is_available():\n",
    "        return \"cuda\"\n",
    "    elif torch.backends.mps.is_available():\n",
    "        return \"mps\"\n",
    "    else:\n",
    "        return \"cpu\""
   ]
  },
  {
   "cell_type": "code",
   "execution_count": 7,
   "id": "52226e93",
   "metadata": {},
   "outputs": [],
   "source": [
    "train_batch_count = 0\n",
    "for _ in train_loader:\n",
    "    train_batch_count += 1\n",
    "\n",
    "test_batch_count = 0\n",
    "for _ in test_loader:\n",
    "    test_batch_count += 1"
   ]
  },
  {
   "cell_type": "code",
   "execution_count": 8,
   "id": "1c005a20",
   "metadata": {},
   "outputs": [
    {
     "data": {
      "text/plain": [
       "(1478, 29)"
      ]
     },
     "execution_count": 8,
     "metadata": {},
     "output_type": "execute_result"
    }
   ],
   "source": [
    "train_batch_count, test_batch_count"
   ]
  },
  {
   "cell_type": "code",
   "execution_count": 9,
   "id": "834c5cf6",
   "metadata": {},
   "outputs": [
    {
     "name": "stdout",
     "output_type": "stream",
     "text": [
      "Training on device: cuda\n"
     ]
    },
    {
     "name": "stderr",
     "output_type": "stream",
     "text": [
      "Epoch 1/10: 100%|██████████| 1478/1478 [07:52<00:00,  3.13it/s, loss=6.7803, lr=0.001]\n"
     ]
    },
    {
     "name": "stdout",
     "output_type": "stream",
     "text": [
      "Epoch 0 done | Average training loss: 6.7803\n",
      "Perplexity on training data: 880.3634410005262\n",
      "\n"
     ]
    },
    {
     "name": "stderr",
     "output_type": "stream",
     "text": [
      "Epoch 1/10: 100%|██████████| 29/29 [00:03<00:00,  7.73it/s]\n"
     ]
    },
    {
     "name": "stdout",
     "output_type": "stream",
     "text": [
      "Average loss on held-out_dataset: 353.7770\n",
      "Perplexity on held-out data: 4.3995301031107846e+153\n",
      "\n"
     ]
    },
    {
     "name": "stderr",
     "output_type": "stream",
     "text": [
      "Epoch 2/10: 100%|██████████| 1478/1478 [07:57<00:00,  3.10it/s, loss=5.8999, lr=0.001]\n"
     ]
    },
    {
     "name": "stdout",
     "output_type": "stream",
     "text": [
      "Epoch 1 done | Average training loss: 5.8999\n",
      "Perplexity on training data: 364.98946527027675\n",
      "\n"
     ]
    },
    {
     "name": "stderr",
     "output_type": "stream",
     "text": [
      "Epoch 2/10: 100%|██████████| 29/29 [00:03<00:00,  7.74it/s]\n"
     ]
    },
    {
     "name": "stdout",
     "output_type": "stream",
     "text": [
      "Average loss on held-out_dataset: 308.5951\n",
      "Perplexity on held-out data: 1.049873720189759e+134\n",
      "\n"
     ]
    },
    {
     "name": "stderr",
     "output_type": "stream",
     "text": [
      "Epoch 3/10: 100%|██████████| 1478/1478 [07:57<00:00,  3.10it/s, loss=5.5537, lr=0.001]\n"
     ]
    },
    {
     "name": "stdout",
     "output_type": "stream",
     "text": [
      "Epoch 2 done | Average training loss: 5.5537\n",
      "Perplexity on training data: 258.2008604880529\n",
      "\n"
     ]
    },
    {
     "name": "stderr",
     "output_type": "stream",
     "text": [
      "Epoch 3/10: 100%|██████████| 29/29 [00:03<00:00,  7.72it/s]\n"
     ]
    },
    {
     "name": "stdout",
     "output_type": "stream",
     "text": [
      "Average loss on held-out_dataset: 290.8455\n",
      "Perplexity on held-out data: 2.054047484322481e+126\n",
      "\n"
     ]
    },
    {
     "name": "stderr",
     "output_type": "stream",
     "text": [
      "Epoch 4/10: 100%|██████████| 1478/1478 [07:57<00:00,  3.09it/s, loss=5.3383, lr=0.001]\n"
     ]
    },
    {
     "name": "stdout",
     "output_type": "stream",
     "text": [
      "Epoch 3 done | Average training loss: 5.3383\n",
      "Perplexity on training data: 208.16163529751222\n",
      "\n"
     ]
    },
    {
     "name": "stderr",
     "output_type": "stream",
     "text": [
      "Epoch 4/10: 100%|██████████| 29/29 [00:03<00:00,  7.75it/s]\n"
     ]
    },
    {
     "name": "stdout",
     "output_type": "stream",
     "text": [
      "Average loss on held-out_dataset: 279.8764\n",
      "Perplexity on held-out data: 3.5382611651406576e+121\n",
      "\n"
     ]
    },
    {
     "name": "stderr",
     "output_type": "stream",
     "text": [
      "Epoch 5/10: 100%|██████████| 1478/1478 [07:57<00:00,  3.09it/s, loss=5.1746, lr=0.001]\n"
     ]
    },
    {
     "name": "stdout",
     "output_type": "stream",
     "text": [
      "Epoch 4 done | Average training loss: 5.1746\n",
      "Perplexity on training data: 176.7316136462518\n",
      "\n"
     ]
    },
    {
     "name": "stderr",
     "output_type": "stream",
     "text": [
      "Epoch 5/10: 100%|██████████| 29/29 [00:03<00:00,  7.79it/s]\n"
     ]
    },
    {
     "name": "stdout",
     "output_type": "stream",
     "text": [
      "Average loss on held-out_dataset: 271.6158\n",
      "Perplexity on held-out data: 9.146373908123788e+117\n",
      "\n"
     ]
    },
    {
     "name": "stderr",
     "output_type": "stream",
     "text": [
      "Epoch 6/10: 100%|██████████| 1478/1478 [07:57<00:00,  3.09it/s, loss=5.0380, lr=0.001]\n"
     ]
    },
    {
     "name": "stdout",
     "output_type": "stream",
     "text": [
      "Epoch 5 done | Average training loss: 5.0380\n",
      "Perplexity on training data: 154.1647988721571\n",
      "\n"
     ]
    },
    {
     "name": "stderr",
     "output_type": "stream",
     "text": [
      "Epoch 6/10: 100%|██████████| 29/29 [00:03<00:00,  7.77it/s]\n"
     ]
    },
    {
     "name": "stdout",
     "output_type": "stream",
     "text": [
      "Average loss on held-out_dataset: 264.8253\n",
      "Perplexity on held-out data: 1.0284218389797838e+115\n",
      "\n"
     ]
    },
    {
     "name": "stderr",
     "output_type": "stream",
     "text": [
      "Epoch 7/10: 100%|██████████| 1478/1478 [07:58<00:00,  3.09it/s, loss=4.9177, lr=0.001]\n"
     ]
    },
    {
     "name": "stdout",
     "output_type": "stream",
     "text": [
      "Epoch 6 done | Average training loss: 4.9177\n",
      "Perplexity on training data: 136.68269454161697\n",
      "\n"
     ]
    },
    {
     "name": "stderr",
     "output_type": "stream",
     "text": [
      "Epoch 7/10: 100%|██████████| 29/29 [00:03<00:00,  7.77it/s]\n"
     ]
    },
    {
     "name": "stdout",
     "output_type": "stream",
     "text": [
      "Average loss on held-out_dataset: 258.9204\n",
      "Perplexity on held-out data: 2.8035272820372848e+112\n",
      "\n"
     ]
    },
    {
     "name": "stderr",
     "output_type": "stream",
     "text": [
      "Epoch 8/10: 100%|██████████| 1478/1478 [07:58<00:00,  3.09it/s, loss=4.8089, lr=0.001]\n"
     ]
    },
    {
     "name": "stdout",
     "output_type": "stream",
     "text": [
      "Epoch 7 done | Average training loss: 4.8089\n",
      "Perplexity on training data: 122.59400627421165\n",
      "\n"
     ]
    },
    {
     "name": "stderr",
     "output_type": "stream",
     "text": [
      "Epoch 8/10: 100%|██████████| 29/29 [00:03<00:00,  7.72it/s]\n"
     ]
    },
    {
     "name": "stdout",
     "output_type": "stream",
     "text": [
      "Average loss on held-out_dataset: 253.6765\n",
      "Perplexity on held-out data: 1.4801300480049512e+110\n",
      "\n"
     ]
    },
    {
     "name": "stderr",
     "output_type": "stream",
     "text": [
      "Epoch 9/10: 100%|██████████| 1478/1478 [07:58<00:00,  3.09it/s, loss=4.7082, lr=0.001]\n"
     ]
    },
    {
     "name": "stdout",
     "output_type": "stream",
     "text": [
      "Epoch 8 done | Average training loss: 4.7082\n",
      "Perplexity on training data: 110.85298983061173\n",
      "\n"
     ]
    },
    {
     "name": "stderr",
     "output_type": "stream",
     "text": [
      "Epoch 9/10: 100%|██████████| 29/29 [00:03<00:00,  7.79it/s]\n"
     ]
    },
    {
     "name": "stdout",
     "output_type": "stream",
     "text": [
      "Average loss on held-out_dataset: 248.8717\n",
      "Perplexity on held-out data: 1.2123290480424976e+108\n",
      "\n"
     ]
    },
    {
     "name": "stderr",
     "output_type": "stream",
     "text": [
      "Epoch 10/10: 100%|██████████| 1478/1478 [07:58<00:00,  3.09it/s, loss=4.6138, lr=0.001]\n"
     ]
    },
    {
     "name": "stdout",
     "output_type": "stream",
     "text": [
      "Epoch 9 done | Average training loss: 4.6138\n",
      "Perplexity on training data: 100.87076312234404\n",
      "\n"
     ]
    },
    {
     "name": "stderr",
     "output_type": "stream",
     "text": [
      "Epoch 10/10: 100%|██████████| 29/29 [00:03<00:00,  7.73it/s]\n"
     ]
    },
    {
     "name": "stdout",
     "output_type": "stream",
     "text": [
      "Average loss on held-out_dataset: 244.4508\n",
      "Perplexity on held-out data: 1.4575574380097592e+106\n",
      "\n",
      "Training complete. Model saved to lstm_final.pt\n"
     ]
    }
   ],
   "source": [
    "import torch.nn as nn\n",
    "from tqdm import tqdm\n",
    "\n",
    "epochs = 10\n",
    "learning_rate = 1e-3\n",
    "weight_decay = 1e-2\n",
    "grad_clip = 1.0\n",
    "device = torch.device(choose_device())\n",
    "\n",
    "print(f\"Training on device: {device}\")\n",
    "\n",
    "lstm.to(device)\n",
    "criterion = nn.CrossEntropyLoss(ignore_index=tokenizer.pad_token_id)\n",
    "optimizer = torch.optim.AdamW(lstm.parameters(), lr=learning_rate, weight_decay=weight_decay)\n",
    "\n",
    "for epoch in range(epochs):\n",
    "\n",
    "    lstm.train()\n",
    "    total_loss = 0.0\n",
    "\n",
    "    progress = tqdm(enumerate(train_loader), total=train_batch_count, desc=f\"Epoch {epoch + 1}/{epochs}\")\n",
    "\n",
    "    for i, (batch_x, batch_y) in progress:\n",
    "        batch_x = batch_x.to(device)\n",
    "        batch_y = batch_y.to(device)\n",
    "\n",
    "        optimizer.zero_grad()\n",
    "        out, _ = lstm(batch_x)\n",
    "\n",
    "        # Flatten for CrossEntropyLoss\n",
    "        loss = criterion(out.view(-1, out.size(-1)), batch_y.view(-1))\n",
    "        loss.backward()\n",
    "\n",
    "        # Gradient clipping\n",
    "        torch.nn.utils.clip_grad_norm_(lstm.parameters(), grad_clip)\n",
    "\n",
    "        optimizer.step()\n",
    "\n",
    "        total_loss += loss.item()\n",
    "        avg_loss = total_loss / (i + 1)\n",
    "\n",
    "        progress.set_postfix({\"loss\": f\"{avg_loss:.4f}\", \"lr\": optimizer.param_groups[0][\"lr\"]})\n",
    "\n",
    "    if epoch < epochs - 1:\n",
    "        torch.save(lstm.state_dict(), f\"lstm_epoch_{epoch + 1}.pt\")\n",
    "\n",
    "\n",
    "    print(f\"Epoch {epoch} done | Average training loss: {avg_loss:.4f}\")\n",
    "    print(f\"Perplexity on training data: {torch.math.exp(avg_loss)}\\n\")\n",
    "\n",
    "    with torch.no_grad():\n",
    "        progress = tqdm(enumerate(test_loader), total=test_batch_count, desc=f\"Epoch {epoch + 1}/{epochs}\")\n",
    "\n",
    "        for i, (batch_x, batch_y) in progress:\n",
    "            batch_x = batch_x.to(device)\n",
    "            batch_y = batch_y.to(device)\n",
    "\n",
    "            out, _ = lstm(batch_x)\n",
    "            loss = criterion(out.view(-1, out.size(-1)), batch_y.view(-1))\n",
    "\n",
    "            total_loss += loss.item()\n",
    "            avg_loss = total_loss / (i + 1)\n",
    "\n",
    "    print(f\"Average loss on held-out_dataset: {avg_loss:.4f}\")\n",
    "    print(f\"Perplexity on held-out data: {torch.math.exp(avg_loss)}\\n\")\n",
    "\n",
    "torch.save(lstm.state_dict(), \"lstm_final.pt\")\n",
    "print(\"Training complete. Model saved to lstm_final.pt\")\n"
   ]
  },
  {
   "cell_type": "code",
   "execution_count": 10,
   "id": "c2957b9a",
   "metadata": {},
   "outputs": [],
   "source": [
    "@torch.no_grad()\n",
    "def generate_text(model, tokenizer, prompt, max_new_tokens=20, device=None):\n",
    "    if device is None:\n",
    "        device = choose_device()\n",
    "    \n",
    "    model.to(device)\n",
    "    model.eval()\n",
    "\n",
    "    # Encode prompt\n",
    "    tokens = tokenizer.encode(prompt, add_special_tokens=False)\n",
    "    input_ids = torch.tensor(tokens, dtype=torch.long).unsqueeze(0).to(device)\n",
    "\n",
    "    generated_tokens = tokens.copy()\n",
    "\n",
    "    with torch.no_grad():\n",
    "        hidden = None\n",
    "        for _ in range(max_new_tokens):\n",
    "            out, hidden = model(input_ids, hidden)\n",
    "            last_logits = out[0, -1, :]  # last token\n",
    "            probs = torch.softmax(last_logits, dim=-1)\n",
    "            predicted_id = torch.argmax(probs).item()\n",
    "\n",
    "            # Append predicted token\n",
    "            generated_tokens.append(predicted_id)\n",
    "            \n",
    "            # Prepare next input\n",
    "            input_ids = torch.tensor([[predicted_id]], dtype=torch.long).to(device)\n",
    "    \n",
    "    # Decode full sequence\n",
    "    text = tokenizer.decode(generated_tokens, skip_special_tokens=True)\n",
    "    return text\n"
   ]
  },
  {
   "cell_type": "code",
   "execution_count": 11,
   "id": "0f740d28",
   "metadata": {},
   "outputs": [
    {
     "data": {
      "text/plain": [
       "'Cześć , którą już w domu , w czasie której nie byłem już w domu , nie będzie mi to powiedział ,'"
      ]
     },
     "execution_count": 11,
     "metadata": {},
     "output_type": "execute_result"
    }
   ],
   "source": [
    "generate_text(lstm, tokenizer, \"Cześć, \")"
   ]
  }
 ],
 "metadata": {
  "kernelspec": {
   "display_name": "computational-linguistics (3.12.8)",
   "language": "python",
   "name": "python3"
  },
  "language_info": {
   "codemirror_mode": {
    "name": "ipython",
    "version": 3
   },
   "file_extension": ".py",
   "mimetype": "text/x-python",
   "name": "python",
   "nbconvert_exporter": "python",
   "pygments_lexer": "ipython3",
   "version": "3.12.8"
  }
 },
 "nbformat": 4,
 "nbformat_minor": 5
}
