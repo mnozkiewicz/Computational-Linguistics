{
 "cells": [
  {
   "cell_type": "markdown",
   "id": "f3eed77e",
   "metadata": {},
   "source": [
    "### Create Speakleash object"
   ]
  },
  {
   "cell_type": "code",
   "execution_count": 1,
   "id": "4ae5205f",
   "metadata": {},
   "outputs": [],
   "source": [
    "from speakleash import Speakleash\n",
    "\n",
    "sl = Speakleash(\"./speakleash_data\")"
   ]
  },
  {
   "cell_type": "markdown",
   "id": "a86b8402",
   "metadata": {},
   "source": [
    "### Create training dataset"
   ]
  },
  {
   "cell_type": "code",
   "execution_count": 2,
   "id": "0cd03dba",
   "metadata": {},
   "outputs": [
    {
     "name": "stdout",
     "output_type": "stream",
     "text": [
      "Reached limit! Wrote 10251040 characters.\n"
     ]
    }
   ],
   "source": [
    "CHAR_LIMIT = 10_000_000 # How many characters (at most) include in the training data\n",
    "DATASET_NAME = \"wolne_lektury_corpus\" # Name of the dataset\n",
    "\n",
    "\n",
    "d = sl.get(DATASET_NAME)\n",
    "char_count = 0\n",
    "\n",
    "with open(f\"data/train.txt\", \"w\", encoding=\"utf-8\") as f_out:\n",
    "    for doc in d.data:\n",
    "        f_out.write(doc + \"\\n\")\n",
    "        char_count += len(doc)\n",
    "        \n",
    "        if char_count >= CHAR_LIMIT:\n",
    "            print(f\"Reached limit! Wrote {char_count} characters.\")\n",
    "            break\n"
   ]
  },
  {
   "cell_type": "markdown",
   "id": "bd60191d",
   "metadata": {},
   "source": [
    "### Download a polish tokenizer and polish embeddings"
   ]
  },
  {
   "cell_type": "code",
   "execution_count": 3,
   "id": "5b0f2845",
   "metadata": {},
   "outputs": [
    {
     "name": "stderr",
     "output_type": "stream",
     "text": [
      "Some weights of the model checkpoint at allegro/herbert-base-cased were not used when initializing BertModel: ['cls.predictions.bias', 'cls.predictions.decoder.bias', 'cls.predictions.decoder.weight', 'cls.predictions.transform.LayerNorm.bias', 'cls.predictions.transform.LayerNorm.weight', 'cls.predictions.transform.dense.bias', 'cls.predictions.transform.dense.weight', 'cls.sso.sso_relationship.bias', 'cls.sso.sso_relationship.weight']\n",
      "- This IS expected if you are initializing BertModel from the checkpoint of a model trained on another task or with another architecture (e.g. initializing a BertForSequenceClassification model from a BertForPreTraining model).\n",
      "- This IS NOT expected if you are initializing BertModel from the checkpoint of a model that you expect to be exactly identical (initializing a BertForSequenceClassification model from a BertForSequenceClassification model).\n"
     ]
    }
   ],
   "source": [
    "from transformers import AutoTokenizer, AutoModel\n",
    "from copy import deepcopy\n",
    "\n",
    "tokenizer = AutoTokenizer.from_pretrained(\"allegro/herbert-base-cased\")\n",
    "model = AutoModel.from_pretrained(\"allegro/herbert-base-cased\")\n",
    "\n",
    "embedding = deepcopy(model.embeddings.word_embeddings)\n",
    "del model\n"
   ]
  },
  {
   "cell_type": "code",
   "execution_count": 4,
   "id": "d6fdeca8",
   "metadata": {},
   "outputs": [],
   "source": [
    "text = \"ALA ma kota\"\n",
    "tokens = tokenizer.encode(text)\n",
    "decoded = tokenizer.decode(tokens)"
   ]
  },
  {
   "cell_type": "code",
   "execution_count": 5,
   "id": "2ea8bb9c",
   "metadata": {},
   "outputs": [
    {
     "data": {
      "text/plain": [
       "('ALA ma kota', [0, 34932, 2185, 24112, 2], '<s>ALA ma kota </s>')"
      ]
     },
     "execution_count": 5,
     "metadata": {},
     "output_type": "execute_result"
    }
   ],
   "source": [
    "text, tokens, decoded"
   ]
  },
  {
   "cell_type": "code",
   "execution_count": 6,
   "id": "8638f685",
   "metadata": {},
   "outputs": [],
   "source": [
    "from torch.utils.data import Dataset, DataLoader\n",
    "import torch\n",
    "\n",
    "class PolishTokenDataset(Dataset):\n",
    "    def __init__(self, text: str, tokenizer: AutoTokenizer, seq_len=128):\n",
    "        self.tokenizer = tokenizer\n",
    "        self.seq_len = seq_len\n",
    "\n",
    "        self.tokens = tokenizer.encode(text, add_special_tokens=False)\n",
    "        self.num_chunks = len(self.tokens) // seq_len\n",
    "\n",
    "    def __len__(self):\n",
    "        return self.num_chunks\n",
    "\n",
    "    def __getitem__(self, idx):\n",
    "        start = idx * self.seq_len\n",
    "        end = start + self.seq_len + 1\n",
    "        chunk = self.tokens[start:end]\n",
    "\n",
    "        if len(chunk) < self.seq_len + 1:\n",
    "            pad_id = self.tokenizer.pad_token_id\n",
    "            chunk = chunk + [pad_id] * (self.seq_len + 1 - len(chunk))\n",
    "\n",
    "        x = torch.tensor(chunk[:-1], dtype=torch.long)\n",
    "        y = torch.tensor(chunk[1:], dtype=torch.long)\n",
    "        return x, y"
   ]
  },
  {
   "cell_type": "markdown",
   "id": "e86a16e0",
   "metadata": {},
   "source": [
    "### Read training text"
   ]
  },
  {
   "cell_type": "code",
   "execution_count": 7,
   "id": "2d2471be",
   "metadata": {},
   "outputs": [],
   "source": [
    "with open(\"data/train.txt\", encoding=\"utf-8\") as f:\n",
    "    text = f.read()"
   ]
  },
  {
   "cell_type": "markdown",
   "id": "27b487ec",
   "metadata": {},
   "source": [
    "### Create Dataloader"
   ]
  },
  {
   "cell_type": "code",
   "execution_count": 8,
   "id": "86b722e1",
   "metadata": {},
   "outputs": [
    {
     "name": "stderr",
     "output_type": "stream",
     "text": [
      "Token indices sequence length is longer than the specified maximum sequence length for this model (2466794 > 512). Running this sequence through the model will result in indexing errors\n"
     ]
    }
   ],
   "source": [
    "CONTEXT_LENGTH = 128\n",
    "BATCH_SIZE = 4\n",
    "\n",
    "dataset = PolishTokenDataset(text, tokenizer, seq_len=CONTEXT_LENGTH)\n",
    "loader = DataLoader(dataset, batch_size=BATCH_SIZE, shuffle=True, num_workers=0)"
   ]
  },
  {
   "cell_type": "code",
   "execution_count": 9,
   "id": "97389fc3",
   "metadata": {},
   "outputs": [],
   "source": [
    "batch_x, batch_y = next(iter(loader))"
   ]
  },
  {
   "cell_type": "code",
   "execution_count": 10,
   "id": "ed8a402e",
   "metadata": {},
   "outputs": [
    {
     "data": {
      "text/plain": [
       "torch.Size([4, 128, 768])"
      ]
     },
     "execution_count": 10,
     "metadata": {},
     "output_type": "execute_result"
    }
   ],
   "source": [
    "embedded = embedding(batch_x)\n",
    "embedded.shape"
   ]
  },
  {
   "cell_type": "code",
   "execution_count": 12,
   "id": "8082fe54",
   "metadata": {},
   "outputs": [],
   "source": [
    "import torch.nn as nn\n",
    "import torch.nn.functional as F\n",
    "from typing import Optional\n",
    "\n",
    "\n",
    "vocab_size = 50_000   # number of tokens\n",
    "embed_dim = 768       # embedding dimension\n",
    "hidden_dim = 256      # LSTM hidden size\n",
    "num_layers = 2\n",
    "\n",
    "\n",
    "class SimpleLSTM(nn.Module):\n",
    "    def __init__(\n",
    "            self, \n",
    "            vocab_size: int, \n",
    "            embed_dim: int, \n",
    "            hidden_dim: int, \n",
    "            num_layers: int,\n",
    "            embedding: Optional[nn.Embedding] = None\n",
    "        ):\n",
    "        super().__init__()\n",
    "\n",
    "        if embedding:\n",
    "            self.embed = embedding\n",
    "            for param in self.embed.parameters(): # Freeze the embedding layer if its passed\n",
    "                param.requires_grad = False\n",
    "        else:\n",
    "            self.embed = nn.Embedding(vocab_size, embed_dim)\n",
    "\n",
    "        self.lstm = nn.LSTM(embed_dim, hidden_dim, num_layers, batch_first=True)\n",
    "        self.fc = nn.Linear(hidden_dim, vocab_size)\n",
    "\n",
    "    def forward(self, x, hidden=None):\n",
    "        # x: [batch, seq_len]\n",
    "        x = self.embed(x)            # [batch, seq_len, embed_dim]\n",
    "        out, hidden = self.lstm(x, hidden)  # [batch, seq_len, hidden_dim]\n",
    "        logits = self.fc(out)        # [batch, seq_len, vocab_size]\n",
    "        return logits, hidden"
   ]
  },
  {
   "cell_type": "code",
   "execution_count": 13,
   "id": "a2e046b2",
   "metadata": {},
   "outputs": [],
   "source": [
    "lstm = SimpleLSTM(vocab_size, embed_dim, hidden_dim, num_layers, embedding)"
   ]
  },
  {
   "cell_type": "code",
   "execution_count": 14,
   "id": "f1ae9c40",
   "metadata": {},
   "outputs": [
    {
     "data": {
      "text/plain": [
       "14426960"
      ]
     },
     "execution_count": 14,
     "metadata": {},
     "output_type": "execute_result"
    }
   ],
   "source": [
    "sum(p.numel() for p in lstm.parameters() if p.requires_grad)"
   ]
  },
  {
   "cell_type": "code",
   "execution_count": 15,
   "id": "6dbc45ab",
   "metadata": {},
   "outputs": [],
   "source": [
    "def choose_device() -> str:\n",
    "    if torch.cuda.is_available():\n",
    "        return \"cuda\"\n",
    "    elif torch.backends.mps.is_available():\n",
    "        return \"mps\"\n",
    "    else:\n",
    "        return \"cpu\""
   ]
  },
  {
   "cell_type": "code",
   "execution_count": null,
   "id": "e62c031a",
   "metadata": {},
   "outputs": [
    {
     "name": "stderr",
     "output_type": "stream",
     "text": [
      "huggingface/tokenizers: The current process just got forked, after parallelism has already been used. Disabling parallelism to avoid deadlocks...\n",
      "To disable this warning, you can either:\n",
      "\t- Avoid using `tokenizers` before the fork if possible\n",
      "\t- Explicitly set the environment variable TOKENIZERS_PARALLELISM=(true | false)\n"
     ]
    },
    {
     "name": "stdout",
     "output_type": "stream",
     "text": [
      "Training on device: mps\n"
     ]
    },
    {
     "name": "stderr",
     "output_type": "stream",
     "text": [
      "Epoch 1/10: 100%|██████████| 4818/4818 [02:10<00:00, 36.79it/s, loss=6.9602, lr=0.001]\n"
     ]
    },
    {
     "name": "stdout",
     "output_type": "stream",
     "text": [
      "Epoch 1 done | Average Loss: 6.9602\n"
     ]
    },
    {
     "name": "stderr",
     "output_type": "stream",
     "text": [
      "Epoch 2/10: 100%|██████████| 4818/4818 [02:10<00:00, 36.94it/s, loss=6.1222, lr=0.001]\n"
     ]
    },
    {
     "name": "stdout",
     "output_type": "stream",
     "text": [
      "Epoch 2 done | Average Loss: 6.1222\n"
     ]
    },
    {
     "name": "stderr",
     "output_type": "stream",
     "text": [
      "Epoch 3/10: 100%|██████████| 4818/4818 [02:10<00:00, 36.96it/s, loss=5.6962, lr=0.001]\n"
     ]
    },
    {
     "name": "stdout",
     "output_type": "stream",
     "text": [
      "Epoch 3 done | Average Loss: 5.6962\n"
     ]
    },
    {
     "name": "stderr",
     "output_type": "stream",
     "text": [
      "Epoch 4/10: 100%|██████████| 4818/4818 [02:09<00:00, 37.07it/s, loss=5.3996, lr=0.001]\n"
     ]
    },
    {
     "name": "stdout",
     "output_type": "stream",
     "text": [
      "Epoch 4 done | Average Loss: 5.3996\n"
     ]
    },
    {
     "name": "stderr",
     "output_type": "stream",
     "text": [
      "Epoch 5/10: 100%|██████████| 4818/4818 [02:09<00:00, 37.16it/s, loss=5.1844, lr=0.001]\n"
     ]
    },
    {
     "name": "stdout",
     "output_type": "stream",
     "text": [
      "Epoch 5 done | Average Loss: 5.1844\n"
     ]
    },
    {
     "name": "stderr",
     "output_type": "stream",
     "text": [
      "Epoch 6/10: 100%|██████████| 4818/4818 [02:11<00:00, 36.63it/s, loss=5.0229, lr=0.001]\n"
     ]
    },
    {
     "name": "stdout",
     "output_type": "stream",
     "text": [
      "Epoch 6 done | Average Loss: 5.0229\n"
     ]
    },
    {
     "name": "stderr",
     "output_type": "stream",
     "text": [
      "Epoch 7/10: 100%|██████████| 4818/4818 [02:11<00:00, 36.74it/s, loss=4.8930, lr=0.001]\n"
     ]
    },
    {
     "name": "stdout",
     "output_type": "stream",
     "text": [
      "Epoch 7 done | Average Loss: 4.8930\n"
     ]
    },
    {
     "name": "stderr",
     "output_type": "stream",
     "text": [
      "Epoch 8/10: 100%|██████████| 4818/4818 [02:10<00:00, 37.02it/s, loss=4.7870, lr=0.001]\n"
     ]
    },
    {
     "name": "stdout",
     "output_type": "stream",
     "text": [
      "Epoch 8 done | Average Loss: 4.7870\n"
     ]
    },
    {
     "name": "stderr",
     "output_type": "stream",
     "text": [
      "Epoch 9/10: 100%|██████████| 4818/4818 [02:10<00:00, 36.97it/s, loss=4.6968, lr=0.001]\n"
     ]
    },
    {
     "name": "stdout",
     "output_type": "stream",
     "text": [
      "Epoch 9 done | Average Loss: 4.6968\n"
     ]
    },
    {
     "name": "stderr",
     "output_type": "stream",
     "text": [
      "Epoch 10/10: 100%|██████████| 4818/4818 [02:12<00:00, 36.46it/s, loss=4.6191, lr=0.001]"
     ]
    },
    {
     "name": "stdout",
     "output_type": "stream",
     "text": [
      "Epoch 10 done | Average Loss: 4.6191\n"
     ]
    },
    {
     "name": "stderr",
     "output_type": "stream",
     "text": [
      "\n"
     ]
    }
   ],
   "source": [
    "import torch\n",
    "import torch.nn as nn\n",
    "from tqdm import tqdm\n",
    "\n",
    "epochs = 10\n",
    "learning_rate = 1e-3\n",
    "weight_decay = 1e-2\n",
    "grad_clip = 1.0\n",
    "device = torch.device(choose_device())\n",
    "\n",
    "print(f\"Training on device: {device}\")\n",
    "\n",
    "lstm.to(device)\n",
    "criterion = nn.CrossEntropyLoss(ignore_index=tokenizer.pad_token_id)\n",
    "optimizer = torch.optim.AdamW(lstm.parameters(), lr=learning_rate, weight_decay=weight_decay)\n",
    "\n",
    "# scheduler = torch.optim.lr_scheduler.CosineAnnealingLR(optimizer, T_max=epochs, eta_min=1e-5)\n",
    "\n",
    "for epoch in range(1, epochs + 1):\n",
    "    lstm.train()\n",
    "    total_loss = 0.0\n",
    "\n",
    "    progress = tqdm(enumerate(loader), total=len(loader), desc=f\"Epoch {epoch}/{epochs}\")\n",
    "\n",
    "    for i, (batch_x, batch_y) in progress:\n",
    "        batch_x = batch_x.to(device)\n",
    "        batch_y = batch_y.to(device)\n",
    "\n",
    "        optimizer.zero_grad()\n",
    "        out, _ = lstm(batch_x)\n",
    "\n",
    "        # Flatten for CrossEntropyLoss\n",
    "        loss = criterion(out.view(-1, out.size(-1)), batch_y.view(-1))\n",
    "        loss.backward()\n",
    "\n",
    "        # Gradient clipping\n",
    "        # torch.nn.utils.clip_grad_norm_(lstm.parameters(), grad_clip)\n",
    "\n",
    "        optimizer.step()\n",
    "\n",
    "        total_loss += loss.item()\n",
    "        avg_loss = total_loss / (i + 1)\n",
    "\n",
    "        progress.set_postfix({\"loss\": f\"{avg_loss:.4f}\", \"lr\": optimizer.param_groups[0][\"lr\"]})\n",
    "\n",
    "    # scheduler.step()\n",
    "\n",
    "    print(f\"Epoch {epoch} done | Average Loss: {avg_loss:.4f}\")\n",
    "\n",
    "torch.save(lstm.state_dict(), \"lstm_next_token_model.pt\")\n",
    "print(\"Training complete. Model saved to lstm_next_token_model.pt\")\n"
   ]
  },
  {
   "cell_type": "code",
   "execution_count": 17,
   "id": "8039a0a1",
   "metadata": {},
   "outputs": [],
   "source": [
    "def generate_text(model, tokenizer, prompt, max_new_tokens=20, device=None):\n",
    "    if device is None:\n",
    "        device = torch.device(\"cuda\" if torch.cuda.is_available() else \"cpu\")\n",
    "    \n",
    "    model.to(device)\n",
    "    model.eval()\n",
    "\n",
    "    # Encode prompt\n",
    "    tokens = tokenizer.encode(prompt, add_special_tokens=False)\n",
    "    input_ids = torch.tensor(tokens, dtype=torch.long).unsqueeze(0).to(device)\n",
    "\n",
    "    generated_tokens = tokens.copy()\n",
    "\n",
    "    with torch.no_grad():\n",
    "        hidden = None\n",
    "        for _ in range(max_new_tokens):\n",
    "            out, hidden = model(input_ids, hidden)\n",
    "            last_logits = out[0, -1, :]  # last token\n",
    "            probs = torch.softmax(last_logits, dim=-1)\n",
    "            predicted_id = torch.argmax(probs).item()\n",
    "\n",
    "            # Append predicted token\n",
    "            generated_tokens.append(predicted_id)\n",
    "            \n",
    "            # Prepare next input\n",
    "            input_ids = torch.tensor([[predicted_id]], dtype=torch.long).to(device)\n",
    "    \n",
    "    # Decode full sequence\n",
    "    text = tokenizer.decode(generated_tokens, skip_special_tokens=True)\n",
    "    return text\n"
   ]
  },
  {
   "cell_type": "code",
   "execution_count": null,
   "id": "f99cb4af",
   "metadata": {},
   "outputs": [
    {
     "name": "stdout",
     "output_type": "stream",
     "text": [
      "Generated text: Odrzekł do nie centurion , a ja w tej chwili , gdy w głębi duszy , w którym się znajdował , w którym się znajdował\n"
     ]
    }
   ],
   "source": []
  }
 ],
 "metadata": {
  "kernelspec": {
   "display_name": "computational-linguistics (3.12.8)",
   "language": "python",
   "name": "python3"
  },
  "language_info": {
   "codemirror_mode": {
    "name": "ipython",
    "version": 3
   },
   "file_extension": ".py",
   "mimetype": "text/x-python",
   "name": "python",
   "nbconvert_exporter": "python",
   "pygments_lexer": "ipython3",
   "version": "3.12.8"
  }
 },
 "nbformat": 4,
 "nbformat_minor": 5
}
